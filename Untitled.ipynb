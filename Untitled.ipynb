{
 "cells": [
  {
   "cell_type": "code",
   "execution_count": 1,
   "metadata": {},
   "outputs": [],
   "source": [
    "import numpy as np\n",
    "import cv2\n",
    "import os\n",
    "from glob import glob\n",
    "import matplotlib.pyplot as plt"
   ]
  },
  {
   "cell_type": "code",
   "execution_count": 2,
   "metadata": {},
   "outputs": [
    {
     "name": "stdout",
     "output_type": "stream",
     "text": [
      "Total number of Images = 3600\n"
     ]
    }
   ],
   "source": [
    "# Convert Video to Picture (Frame by Frame)\n",
    "\n",
    "cap = cv2.VideoCapture('stitch.avi')\n",
    "i=0\n",
    "br = 1\n",
    "while cap.isOpened():\n",
    "    ret,frame = cap.read()\n",
    "    if not ret: break\n",
    "\n",
    "    if i%br==0:\n",
    "        name = \"Images//{0:03}.jpg\".format(i//br)\n",
    "        #print(name)\n",
    "        cv2.imwrite(str(name), frame)\n",
    "    \n",
    "    i+=1\n",
    "print(\"Total number of Images = %d\"%(i))\n",
    "cap.release()\n",
    "cv2.destroyAllWindows()"
   ]
  },
  {
   "cell_type": "code",
   "execution_count": 3,
   "metadata": {},
   "outputs": [
    {
     "name": "stdout",
     "output_type": "stream",
     "text": [
      "Length of kp1 = 2882\n",
      "Length of kp2 = 2506\n",
      "Number of Matching Points = 794\n",
      "Number of src points = 164\n"
     ]
    },
    {
     "data": {
      "text/plain": [
       "True"
      ]
     },
     "execution_count": 3,
     "metadata": {},
     "output_type": "execute_result"
    }
   ],
   "source": [
    "# Feature Matching in the original Image\n",
    "\n",
    "img_1 = cv2.imread('Images/1040.jpg')\n",
    "img_1 = cv2.resize(img_1, (0,0), fx=0.75, fy=0.75)\n",
    "img1_gray = cv2.cvtColor(img_1, cv2.COLOR_BGR2GRAY)\n",
    "\n",
    "img_2 = cv2.imread('Images/1070.jpg')\n",
    "img_2 = cv2.resize(img_2, (0,0), fx=0.75, fy=0.75)\n",
    "img2_gray = cv2.cvtColor(img_2, cv2.COLOR_BGR2GRAY)\n",
    "\n",
    "sift = cv2.xfeatures2d.SIFT_create()\n",
    "kp1, des1 = sift.detectAndCompute(img1_gray,None)\n",
    "kp2, des2 = sift.detectAndCompute(img2_gray,None)\n",
    "\n",
    "print(\"Length of kp1 = %d\"%(len(kp1)))\n",
    "print(\"Length of kp2 = %d\"%(len(kp2)))\n",
    "\n",
    "cv2.imwrite('original_image_1_keypoints.jpg',cv2.drawKeypoints(img_1,kp1,None))\n",
    "cv2.imwrite('original_image_2_keypoints.jpg',cv2.drawKeypoints(img_2,kp2,None))\n",
    "\n",
    "match = cv2.BFMatcher()\n",
    "matches = match.knnMatch(des1,des2,k=2)\n",
    "\n",
    "good = []\n",
    "for m,n in matches:\n",
    "    if m.distance < 0.9*n.distance:\n",
    "        good.append(m)\n",
    "print(\"Number of Matching Points = %d\"%(len(good)))\n",
    "\n",
    "\n",
    "src = []\n",
    "dst = []\n",
    "good_tmp = []\n",
    "for m in good:\n",
    "    if m.queryIdx >= min( len(kp1),len(kp2)): continue\n",
    "    a = kp1[m.queryIdx].pt\n",
    "    b = kp2[m.queryIdx].pt\n",
    "    dist = (abs(a[0]-b[0])**2 + abs(a[1]-b[1])**2)**0.5\n",
    "    if dist>300: \n",
    "        src.append(a)\n",
    "        dst.append(b)\n",
    "        good_tmp.append(m)\n",
    "        \n",
    "print(\"Number of src points = %d\"%(len(src)))\n",
    "src_pts = np.array(src).reshape(-1,1,2)\n",
    "dst_pts = np.array(dst).reshape(-1,1,2)\n",
    "\n",
    "draw_params = dict(matchColor = (0,255,0), # draw matches in green color\n",
    "                   singlePointColor = None,\n",
    "                   flags = 2)\n",
    "\n",
    "img3 = cv2.drawMatches(img_1,kp1,img_2,kp2,good_tmp,None,**draw_params)\n",
    "cv2.imwrite(\"original_image_drawMatches.jpg\", img3)"
   ]
  },
  {
   "cell_type": "code",
   "execution_count": 4,
   "metadata": {},
   "outputs": [
    {
     "name": "stdout",
     "output_type": "stream",
     "text": [
      "Length of kp1 = 802\n",
      "Length of kp2 = 1284\n",
      "Number of Matching Points = 104\n",
      "Number of src points = 104\n"
     ]
    },
    {
     "data": {
      "text/plain": [
       "True"
      ]
     },
     "execution_count": 4,
     "metadata": {},
     "output_type": "execute_result"
    }
   ],
   "source": [
    "# Feature Matching in the Masked Image\n",
    "\n",
    "img_1 = cv2.imread('Img/1000.jpg')\n",
    "img_1 = cv2.resize(img_1, (0,0), fx=0.75, fy=0.75)\n",
    "img1_gray = cv2.cvtColor(img_1, cv2.COLOR_BGR2GRAY)\n",
    "\n",
    "img_2 = cv2.imread('Img/1050.jpg')\n",
    "img_2 = cv2.resize(img_2, (0,0), fx=0.75, fy=0.75)\n",
    "img2_gray = cv2.cvtColor(img_2, cv2.COLOR_BGR2GRAY)\n",
    "\n",
    "sift = cv2.xfeatures2d.SIFT_create()\n",
    "kp1, des1 = sift.detectAndCompute(img1_gray,None)\n",
    "kp2, des2 = sift.detectAndCompute(img2_gray,None)\n",
    "\n",
    "print(\"Length of kp1 = %d\"%(len(kp1)))\n",
    "print(\"Length of kp2 = %d\"%(len(kp2)))\n",
    "\n",
    "cv2.imwrite('masked_image_1_keypoints.jpg',cv2.drawKeypoints(img_1,kp1,None))\n",
    "cv2.imwrite('masked_image_2_keypoints.jpg',cv2.drawKeypoints(img_2,kp2,None))\n",
    "\n",
    "match = cv2.BFMatcher()\n",
    "matches = match.knnMatch(des1,des2,k=2)\n",
    "\n",
    "good = []\n",
    "for m,n in matches:\n",
    "    if m.distance < 0.8*n.distance:\n",
    "        good.append(m)\n",
    "print(\"Number of Matching Points = %d\"%(len(good)))\n",
    "\n",
    "\n",
    "src = []\n",
    "dst = []\n",
    "good_tmp = []\n",
    "for m in good:\n",
    "    if m.queryIdx >= min( len(kp1),len(kp2)): continue\n",
    "    a = kp1[m.queryIdx].pt\n",
    "    b = kp2[m.queryIdx].pt\n",
    "    dist = (abs(a[0]-b[0])**2 + abs(a[1]-b[1])**2)**0.5\n",
    "    if dist>100: \n",
    "        src.append(a)\n",
    "        dst.append(b)\n",
    "        good_tmp.append(m)\n",
    "        \n",
    "print(\"Number of src points = %d\"%(len(src)))\n",
    "src_pts = np.array(src).reshape(-1,1,2)\n",
    "dst_pts = np.array(dst).reshape(-1,1,2)\n",
    "\n",
    "draw_params = dict(matchColor = (0,255,0), # draw matches in green color\n",
    "                   singlePointColor = None,\n",
    "                   flags = 2)\n",
    "\n",
    "img3 = cv2.drawMatches(img_1,kp1,img_2,kp2,good,None,**draw_params)\n",
    "cv2.imwrite(\"masked_image_drawMatches.jpg\", img3)"
   ]
  },
  {
   "cell_type": "code",
   "execution_count": 5,
   "metadata": {},
   "outputs": [
    {
     "name": "stdout",
     "output_type": "stream",
     "text": [
      "The Total number of images = 3600\n"
     ]
    }
   ],
   "source": [
    "# Masking of Truck using optical flow\n",
    "\n",
    "ls = []\n",
    "for i in glob('Images/???.jpg'): ls.append(i)\n",
    "for i in glob('Images/????.jpg'): ls.append(i)\n",
    "print(\"The Total number of images = %d\"%(len(ls)))\n",
    "\n",
    "\n",
    "st = 1000\n",
    "end = 1200\n",
    "\n",
    "frame1 = cv2.imread(ls[st])\n",
    "prvs = cv2.cvtColor(frame1,cv2.COLOR_BGR2GRAY)\n",
    "hsv = np.zeros_like(frame1)\n",
    "hsv[...,1] = 255\n",
    "\n",
    "cnt=0\n",
    "for img_name in ls[st+1:end]:\n",
    "    frame2 = cv2.imread(img_name)\n",
    "    next = cv2.cvtColor(frame2,cv2.COLOR_BGR2GRAY)\n",
    "\n",
    "    flow = cv2.calcOpticalFlowFarneback(prvs,next, None, 0.5, 3, 15, 3, 5, 1.2, 0)\n",
    "\n",
    "    mag, ang = cv2.cartToPolar(flow[...,0], flow[...,1])\n",
    "    hsv[...,0] = ang*180/np.pi/2\n",
    "    hsv[...,2] = cv2.normalize(mag,None,0,255,cv2.NORM_MINMAX)\n",
    "    rgb = cv2.cvtColor(hsv,cv2.COLOR_HSV2BGR)\n",
    "\n",
    "    blur = cv2.GaussianBlur(hsv[:,:,2],(25,25),0)\n",
    "    ret4,th4 = cv2.threshold(blur,0,255,cv2.THRESH_BINARY+cv2.THRESH_OTSU)\n",
    "    \n",
    "    kernel = np.ones((15,15),np.uint8)\n",
    "    dilation = cv2.dilate(th4,kernel,iterations = 1)\n",
    "\n",
    "    cv2.imwrite('Masked_image_of_moving_vehicle/%d.jpg'%(cnt),dilation)\n",
    "    k = cv2.waitKey(30) & 0xff\n",
    "    if k == 27:\n",
    "        break\n",
    "    prvs = next\n",
    "    cnt+=1\n",
    "\n",
    "cap.release()\n",
    "cv2.destroyAllWindows()"
   ]
  },
  {
   "cell_type": "code",
   "execution_count": 10,
   "metadata": {},
   "outputs": [
    {
     "name": "stdout",
     "output_type": "stream",
     "text": [
      "Length of Manually Masked Images = 21\n",
      "Total Number of Images = 21\n",
      "Stitched Image Found from 0 to 1 \n",
      "Stitched Image Found from 0 to 2 \n",
      "Stitched Image Found from 0 to 3 \n",
      "Stitched Image Found from 0 to 4 \n",
      "Stitched Image Found from 0 to 5 \n",
      "Stitched Image Found from 0 to 6 \n",
      "Stitched Image Found from 0 to 11 \n",
      "Stitched Image Found from 0 to 13 \n",
      "Stitched Image Found from 0 to 15 \n",
      "Stitched Image Found from 1 to 2 \n",
      "Stitched Image Found from 1 to 3 \n",
      "Stitched Image Found from 1 to 4 \n",
      "Stitched Image Found from 1 to 5 \n",
      "Stitched Image Found from 1 to 6 \n",
      "Stitched Image Found from 1 to 7 \n",
      "Stitched Image Found from 1 to 10 \n",
      "Stitched Image Found from 1 to 14 \n",
      "Stitched Image Found from 2 to 3 \n",
      "Stitched Image Found from 2 to 4 \n",
      "Stitched Image Found from 2 to 5 \n",
      "Stitched Image Found from 2 to 6 \n",
      "Stitched Image Found from 2 to 7 \n",
      "Stitched Image Found from 2 to 9 \n",
      "Stitched Image Found from 2 to 10 \n",
      "Stitched Image Found from 2 to 11 \n",
      "Stitched Image Found from 2 to 15 \n",
      "Stitched Image Found from 3 to 4 \n",
      "Stitched Image Found from 3 to 5 \n",
      "Stitched Image Found from 3 to 6 \n",
      "Stitched Image Found from 3 to 10 \n",
      "Stitched Image Found from 3 to 11 \n",
      "Stitched Image Found from 3 to 12 \n",
      "Stitched Image Found from 3 to 14 \n",
      "Stitched Image Found from 4 to 5 \n",
      "Stitched Image Found from 4 to 6 \n",
      "Stitched Image Found from 4 to 7 \n",
      "Stitched Image Found from 4 to 8 \n",
      "Stitched Image Found from 4 to 9 \n",
      "Stitched Image Found from 4 to 10 \n",
      "Stitched Image Found from 4 to 12 \n",
      "Stitched Image Found from 4 to 13 \n",
      "Stitched Image Found from 4 to 14 \n",
      "Stitched Image Found from 5 to 6 \n",
      "Stitched Image Found from 5 to 7 \n",
      "Stitched Image Found from 5 to 8 \n",
      "Stitched Image Found from 5 to 9 \n",
      "Stitched Image Found from 5 to 10 \n",
      "Stitched Image Found from 5 to 11 \n",
      "Stitched Image Found from 5 to 14 \n",
      "Stitched Image Found from 6 to 7 \n",
      "Stitched Image Found from 6 to 8 \n",
      "Stitched Image Found from 6 to 9 \n",
      "Stitched Image Found from 6 to 10 \n",
      "Stitched Image Found from 6 to 11 \n",
      "Stitched Image Found from 6 to 12 \n",
      "Stitched Image Found from 7 to 8 \n",
      "Stitched Image Found from 7 to 9 \n",
      "Stitched Image Found from 7 to 10 \n",
      "Stitched Image Found from 7 to 11 \n",
      "Stitched Image Found from 7 to 12 \n"
     ]
    }
   ],
   "source": [
    "# Stitching Manually Masked Images\n",
    "\n",
    "ls = []\n",
    "for i in glob('Img/???.jpg'): ls.append(i)\n",
    "for i in glob('Img/????.jpg'): ls.append(i)\n",
    "print(\"Length of Manually Masked Images = %d\"%(len(ls)))\n",
    "\n",
    "images = []\n",
    "for img_name in ls:\n",
    "    img_1 = cv2.imread(img_name)\n",
    "    images.append(img_1)\n",
    "print(\"Total Number of Images = %d\"%(len(images)))\n",
    "\n",
    "\n",
    "# Try Stiching all possibe combinations of these images\n",
    "l = len(images)\n",
    "for i in range(l):\n",
    "    for j in range(i+1,l):\n",
    "        images = []\n",
    "        for img_name in ls[i:j+1]:\n",
    "            img_1 = cv2.imread(img_name)\n",
    "            images.append(img_1)\n",
    "        sticher = cv2.Stitcher_create()\n",
    "        res,stiched_img = sticher.stitch(images)\n",
    "        if res==0:\n",
    "            print(\"Stitched Image Found from %d to %d \"%(i,j))\n",
    "            cv2.imwrite('Output/%d_%d.jpg'%(i,j),stiched_img)\n",
    "            cv2.waitKey(0)\n",
    "            cv2.destroyAllWindows()"
   ]
  },
  {
   "cell_type": "code",
   "execution_count": 12,
   "metadata": {},
   "outputs": [],
   "source": [
    "# Function to remove the extra Black part of the images\n",
    "def trim(frame):\n",
    "    #crop top\n",
    "    if not np.sum(frame[0]):\n",
    "        return trim(frame[1:])\n",
    "    #crop top\n",
    "    if not np.sum(frame[-1]):\n",
    "        return trim(frame[:-2])\n",
    "    #crop top\n",
    "    if not np.sum(frame[:,0]):\n",
    "        return trim(frame[:,1:])\n",
    "    #crop top\n",
    "    if not np.sum(frame[:,-1]):\n",
    "        return trim(frame[:,:-2])\n",
    "    return frame"
   ]
  },
  {
   "cell_type": "code",
   "execution_count": 21,
   "metadata": {},
   "outputs": [
    {
     "name": "stdout",
     "output_type": "stream",
     "text": [
      "Number of Output Images = 72\n"
     ]
    }
   ],
   "source": [
    "# Cleaning the Output Images\n",
    "ls = glob('Output/*')\n",
    "print(\"Number of Output Images = %d\"%(len(ls)))\n",
    "for img_name in ls:\n",
    "    img = cv2.imread(img_name)\n",
    "    img = cv2.resize(img,(1280,720))\n",
    "    img = trim(img)\n",
    "    name = img_name.split('\\\\')[-1]\n",
    "    cv2.imwrite('Clean_output_images/%s'%(name), img)"
   ]
  },
  {
   "cell_type": "code",
   "execution_count": null,
   "metadata": {},
   "outputs": [],
   "source": []
  }
 ],
 "metadata": {
  "kernelspec": {
   "display_name": "Python 3",
   "language": "python",
   "name": "python3"
  },
  "language_info": {
   "codemirror_mode": {
    "name": "ipython",
    "version": 3
   },
   "file_extension": ".py",
   "mimetype": "text/x-python",
   "name": "python",
   "nbconvert_exporter": "python",
   "pygments_lexer": "ipython3",
   "version": "3.7.7"
  }
 },
 "nbformat": 4,
 "nbformat_minor": 4
}
